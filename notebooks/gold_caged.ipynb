{
 "cells": [
  {
   "cell_type": "code",
   "execution_count": 1,
   "metadata": {},
   "outputs": [
    {
     "name": "stderr",
     "output_type": "stream",
     "text": [
      "C:\\Users\\yuri.taba\\AppData\\Local\\Temp\\ipykernel_10432\\1277726926.py:11: DtypeWarning: Columns (2,13,22,23) have mixed types. Specify dtype option on import or set low_memory=False.\n",
      "  caged = pd.read_csv(raw_data_path / \"caged_02042025.csv\", sep=\";\", encoding=\"latin1\")\n"
     ]
    }
   ],
   "source": [
    "import pandas as pd\n",
    "import numpy as np\n",
    "import time\n",
    "from pathlib import Path\n",
    "\n",
    "start_time = time.time()\n",
    "\n",
    "raw_data_path = Path().resolve().parent / \"etl\" / \"data\" / \"processed\"\n",
    "gold_data_path = Path().resolve().parent / \"data\"\n",
    "\n",
    "caged = pd.read_csv(raw_data_path / \"caged_02042025.csv\", sep=\";\", encoding=\"latin1\")"
   ]
  },
  {
   "cell_type": "code",
   "execution_count": 2,
   "metadata": {},
   "outputs": [],
   "source": [
    "caged['variable'] = np.where(\n",
    "    caged['saldo_movimentacao'] == -1,\n",
    "    \"Demissões\", \"Admissões\"\n",
    ")\n",
    "caged_media_idade = (\n",
    "    caged.groupby([\"ano\", \"cnae_2_descricao_secao\", \"variable\"], as_index=False)\n",
    "    .agg({\"idade\": \"mean\"})\n",
    "    .rename(columns={\"idade\": \"media_idade\"})\n",
    ")\n",
    "caged_media_idade.to_csv(\n",
    "    gold_data_path / \"caged_media_idade.csv\", index=False, sep=\";\", encoding=\"latin1\"\n",
    ")"
   ]
  },
  {
   "cell_type": "code",
   "execution_count": 3,
   "metadata": {},
   "outputs": [],
   "source": [
    "caged_media_salario = (\n",
    "    caged.groupby([\"ano\", \"cnae_2_descricao_secao\", \"variable\"], as_index=False)\n",
    "    .agg({\"salario_mensal\": \"mean\"})\n",
    "    .rename(columns={\"salario_mensal\": \"salario_medio\"})\n",
    ")\n",
    "caged_media_salario.to_csv(\n",
    "    gold_data_path / \"caged_media_salario.csv\", index=False, sep=\";\", encoding=\"latin1\"\n",
    ")"
   ]
  },
  {
   "cell_type": "code",
   "execution_count": 4,
   "metadata": {},
   "outputs": [],
   "source": [
    "caged_saldo_idade = (\n",
    "    caged.groupby([\"ano\", \"idade\"], as_index=False)\n",
    "    .agg({\"saldo_movimentacao\": \"sum\"})\n",
    "    .sort_values(by=\"saldo_movimentacao\")\n",
    ")\n",
    "caged_saldo_idade.to_csv(\n",
    "    gold_data_path / \"caged_saldo_idade.csv\", index=False, sep=\";\", encoding=\"latin1\"\n",
    ")"
   ]
  },
  {
   "cell_type": "code",
   "execution_count": 5,
   "metadata": {},
   "outputs": [],
   "source": [
    "caged_saldo_movimentacao_anual = caged.groupby(\n",
    "    [\"ano\", \"cnae_2_descricao_secao\"], as_index=False\n",
    ").agg({\"saldo_movimentacao\": \"sum\", \"salario_mensal\": \"mean\"})\n",
    "\n",
    "caged_saldo_movimentacao_anual.to_csv(\n",
    "    gold_data_path / \"caged_saldo_movimentacao_anual.csv\", index=False, sep=\";\", encoding=\"latin1\"\n",
    ")"
   ]
  },
  {
   "cell_type": "code",
   "execution_count": 6,
   "metadata": {},
   "outputs": [],
   "source": [
    "caged_saldo_secao = (\n",
    "    caged.groupby([\"ano\", \"cnae_2_descricao_secao\"], as_index=False)\n",
    "    .agg({\"saldo_movimentacao\": \"sum\"})\n",
    "    .sort_values(by=\"saldo_movimentacao\")\n",
    ")\n",
    "caged_saldo_secao.to_csv(\n",
    "    gold_data_path / \"caged_saldo_secao.csv\", index=False, sep=\";\", encoding=\"latin1\"\n",
    ")"
   ]
  },
  {
   "cell_type": "code",
   "execution_count": 7,
   "metadata": {},
   "outputs": [
    {
     "name": "stdout",
     "output_type": "stream",
     "text": [
      "Execution time: 0.24 minutes\n"
     ]
    }
   ],
   "source": [
    "end_time = time.time()\n",
    "exec_time = (end_time - start_time) / 60\n",
    "print(f\"Execution time: {exec_time:.2f} minutes\")"
   ]
  }
 ],
 "metadata": {
  "kernelspec": {
   "display_name": "base",
   "language": "python",
   "name": "python3"
  },
  "language_info": {
   "codemirror_mode": {
    "name": "ipython",
    "version": 3
   },
   "file_extension": ".py",
   "mimetype": "text/x-python",
   "name": "python",
   "nbconvert_exporter": "python",
   "pygments_lexer": "ipython3",
   "version": "3.12.7"
  }
 },
 "nbformat": 4,
 "nbformat_minor": 2
}
