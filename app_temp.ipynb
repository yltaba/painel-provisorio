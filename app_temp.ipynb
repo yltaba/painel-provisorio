{
 "cells": [
  {
   "cell_type": "code",
   "execution_count": 1,
   "metadata": {},
   "outputs": [
    {
     "data": {
      "text/html": [
       "\n",
       "        <iframe\n",
       "            width=\"100%\"\n",
       "            height=\"650\"\n",
       "            src=\"http://127.0.0.1:8050/\"\n",
       "            frameborder=\"0\"\n",
       "            allowfullscreen\n",
       "            \n",
       "        ></iframe>\n",
       "        "
      ],
      "text/plain": [
       "<IPython.lib.display.IFrame at 0x20aee1409e0>"
      ]
     },
     "metadata": {},
     "output_type": "display_data"
    }
   ],
   "source": [
    "from dash import Dash, dcc, html\n",
    "import dash_bootstrap_components as dbc\n",
    "\n",
    "from src.config import DATA_PATH\n",
    "from src.load_data import load_data\n",
    "from src.callbacks import init_callbacks\n",
    "\n",
    "\n",
    "# DADOS\n",
    "data_path = DATA_PATH\n",
    "all_data = load_data()\n",
    "\n",
    "# Consolidação Tabs\n",
    "all_tabs = dcc.Tabs(\n",
    "    id=\"tabs\",\n",
    "    value=\"home\",\n",
    "    children=[\n",
    "        dcc.Tab(label=\"Home\", value=\"home\"),\n",
    "        dcc.Tab(label=\"Desenvolvimento Econômico\", value=\"economia\"),\n",
    "        dcc.Tab(label=\"Trabalho e Renda\", value=\"trabalho\"),\n",
    "        dcc.Tab(label=\"Desenvolvimento Urbano\", value=\"urbano\"),\n",
    "    ],\n",
    ")\n",
    "\n",
    "\n",
    "# APP LAYOUT\n",
    "external_stylesheets = [dbc.themes.SANDSTONE]\n",
    "app = Dash(\n",
    "    external_stylesheets=external_stylesheets, suppress_callback_exceptions=True\n",
    ")\n",
    "# Logo Osasco\n",
    "imagem_cabecalho = html.Img(\n",
    "    src=\"https://osasco.sp.gov.br/wp-content/uploads/2024/12/logo-pmo-2025-2028-horizontal.png\",\n",
    "    style={\n",
    "        \"width\": \"50%\",\n",
    "        \"height\": \"50%\",\n",
    "        \"display\": \"block\",\n",
    "        \"margin\": \"auto\",\n",
    "        \"margin-top\": \"30px\",\n",
    "    },\n",
    ")\n",
    "\n",
    "app.layout = dbc.Container(\n",
    "    [\n",
    "        imagem_cabecalho,\n",
    "        html.Br(),\n",
    "        all_tabs,\n",
    "        html.Div(id=\"tabs-content\"),\n",
    "    ]\n",
    ")\n",
    "init_callbacks(app, all_data)\n",
    "\n",
    "server = app.server\n",
    "if __name__ == \"__main__\":\n",
    "    app.run_server(debug=True)\n"
   ]
  }
 ],
 "metadata": {
  "kernelspec": {
   "display_name": "base",
   "language": "python",
   "name": "python3"
  },
  "language_info": {
   "codemirror_mode": {
    "name": "ipython",
    "version": 3
   },
   "file_extension": ".py",
   "mimetype": "text/x-python",
   "name": "python",
   "nbconvert_exporter": "python",
   "pygments_lexer": "ipython3",
   "version": "3.12.7"
  }
 },
 "nbformat": 4,
 "nbformat_minor": 2
}
